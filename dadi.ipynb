{
 "cells": [
  {
   "cell_type": "code",
   "execution_count": 10,
   "id": "ce76b55b-4dac-4214-8483-8e3ffd239528",
   "metadata": {},
   "outputs": [],
   "source": [
    "# Pickle is used to save variables as files for future use\n",
    "import pickle\n",
    "# NLopt is the optimization libary dadi uses\n",
    "import nlopt\n",
    "# MatPlotLib is a libary dadi uses for plotting frequency spectrum\n",
    "import matplotlib.pyplot as plt\n",
    "import dadi\n",
    "import numpy as np\n"
   ]
  },
  {
   "cell_type": "markdown",
   "id": "fae0ff33-89fc-400e-8cab-49ecbcffaba1",
   "metadata": {},
   "source": [
    "# Import data from vcf files. Ten individuals from either species were included. Fs was folded as ancestor was not used as ref (polarized = False)."
   ]
  },
  {
   "cell_type": "code",
   "execution_count": 11,
   "id": "0c66d5ef-729d-492f-b3e7-8ef188110f5c",
   "metadata": {},
   "outputs": [],
   "source": [
    "dd = dadi.Misc.make_data_dict_vcf(\"../virchi.10p.SNP.vcf.gz\", \"../virchi_7_7.list\")"
   ]
  },
  {
   "cell_type": "code",
   "execution_count": 12,
   "id": "9cbb618f-07ad-46a5-8767-326be665ef24",
   "metadata": {},
   "outputs": [],
   "source": [
    "fs = dadi.Spectrum.from_data_dict(dd, ['vir', 'chi'], projections = [84, 76], polarized = False)"
   ]
  },
  {
   "cell_type": "code",
   "execution_count": 12,
   "id": "5586d35e-4ee0-4854-bc34-e5bb010f54be",
   "metadata": {},
   "outputs": [
    {
     "name": "stdout",
     "output_type": "stream",
     "text": [
      "154621.0\n"
     ]
    }
   ],
   "source": [
    "print(fs.S())"
   ]
  },
  {
   "cell_type": "code",
   "execution_count": 13,
   "id": "560bc91f-f877-4e63-8a7e-9d59f3429c10",
   "metadata": {},
   "outputs": [],
   "source": [
    "fs.mask[0,:] = True\n",
    "fs.mask[:,0] = True\n",
    "fs_ma = fs\n",
    "fs_ma.mask[0:1,:] = True\n",
    "fs_ma.mask[:,0:1] = True"
   ]
  },
  {
   "cell_type": "code",
   "execution_count": 16,
   "id": "c91565ea-f40e-4445-8b97-8e45e31e6fb9",
   "metadata": {
    "tags": []
   },
   "outputs": [],
   "source": [
    "import os\n",
    "if not os.path.exists('bootstraps_syn'):\n",
    "  os.makedirs('bootstraps_syn')\n",
    "# Nboot is the number of bootstraped datasets we want\n",
    "# chunk_size is the genome chunks we use to make the\n",
    "# randomized genomes.\n",
    "Nboot, chunk_size = 100, 1e7\n",
    "\n",
    "# Break up the data dictionari into a list of\n",
    "# dictionary entries for each chunk of the genome.\n",
    "# Ex, the fist 10^7 base pairs will be element 0,\n",
    "# the next 10^7 base pairs will be element 1, etc.\n",
    "# to the last 10^7 base pairs will be the last element/element -1.\n",
    "chunks = dadi.Misc.fragment_data_dict(dd, chunk_size)\n",
    "\n",
    "# If we want to do bootstrapping on both the\n",
    "# synonymous and nonsynonymous variants,\n",
    "# we want to set a seed so that the same random\n",
    "# chunks of genome are picked for both.\n",
    "# The seed needs to be reset to the same value between\n",
    "# runs of dadi.Misc.bootstraps_from_dd_chunks()\n",
    "import random\n",
    "random.seed(123)\n",
    "\n",
    "# Get a list containin the SFS of the bootstraped genomes.\n",
    "boots = dadi.Misc.bootstraps_from_dd_chunks(chunks, Nboot, ['vir', 'chi'], [84, 76])\n",
    "\n",
    "# Save the bootstraps\n",
    "for i in range(len(boots)):\n",
    "  boots[i].to_file('bootstraps_syn/virchi.10p.SNP.boot_{0}.fs'.format(str(i)))"
   ]
  },
  {
   "cell_type": "markdown",
   "id": "5a4e4adc-24bd-4953-bd8e-0163b4560ce8",
   "metadata": {},
   "source": [
    "# marginalizing vir or chi to compute Waterson's theta and pi"
   ]
  },
  {
   "cell_type": "code",
   "execution_count": 22,
   "id": "0df913cb-7ae9-4687-8ec7-13fb9ef5220b",
   "metadata": {
    "tags": []
   },
   "outputs": [
    {
     "name": "stderr",
     "output_type": "stream",
     "text": [
      "WARNING:Spectrum_mod:Marginalizing a Spectrum with internal masked values. This may not be a well-defined operation.\n",
      "WARNING:Spectrum_mod:Marginalizing a Spectrum with internal masked values. This may not be a well-defined operation.\n"
     ]
    }
   ],
   "source": [
    "fsvir = fs.marginalize([1])\n",
    "fschi = fs.marginalize([0])"
   ]
  },
  {
   "cell_type": "code",
   "execution_count": 23,
   "id": "ee7d8cbb-2ad7-438d-b471-f82dd8e0d061",
   "metadata": {},
   "outputs": [],
   "source": [
    "theta = [fsvir.Watterson_theta(), fschi.Watterson_theta()]\n",
    "Tajima = [fsvir.Tajima_D(), fschi.Tajima_D()]\n"
   ]
  },
  {
   "cell_type": "markdown",
   "id": "ef455dd6-7d30-4a58-8e60-e3ab35078bf7",
   "metadata": {},
   "source": [
    "# Build a split with migration model "
   ]
  },
  {
   "cell_type": "code",
   "execution_count": 14,
   "id": "2afd4b72-07b5-4419-8697-b9a14ccd843b",
   "metadata": {},
   "outputs": [],
   "source": [
    "def split_mig1(params, ns, pts):\n",
    "    nu1, nu2, T, m12, m21 = params\n",
    "    xx = dadi.Numerics.default_grid(pts)\n",
    "\n",
    "    phi = dadi.PhiManip.phi_1D(xx)\n",
    "    phi = dadi.PhiManip.phi_1D_to_2D(xx, phi)\n",
    "    phi = dadi.Integration.two_pops(phi, xx, T, nu1, nu2, m12 = m12, m21 = m21)\n",
    "\n",
    "    fs = dadi.Spectrum.from_phi(phi, ns, (xx, xx))\n",
    "    return fs"
   ]
  },
  {
   "cell_type": "markdown",
   "id": "005c4fed-fb07-4d21-a8ed-b0bed6df56f8",
   "metadata": {},
   "source": [
    "Set initial parameters"
   ]
  },
  {
   "cell_type": "code",
   "execution_count": 15,
   "id": "c27c03c5-3102-4441-bf21-accc5239c0af",
   "metadata": {},
   "outputs": [],
   "source": [
    "ns = fs.sample_sizes\n",
    "pts_l = [max(ns)+20, max(ns)+30, max(ns)+40]\n",
    "params = [0.4549, 0.034, 0.0189, 0.0238, 0.0296]\n",
    "lower_bounds = [1e-3, 1e-3, 1e-10, 1e-3, 1e-3]\n",
    "upper_bounds = [3, 3, 10, 1, 1]"
   ]
  },
  {
   "cell_type": "markdown",
   "id": "1228c8c6-a4c7-4f3d-b69f-cc84f6accb79",
   "metadata": {},
   "source": [
    "create extrapolate function"
   ]
  },
  {
   "cell_type": "code",
   "execution_count": 16,
   "id": "37a99547-a82d-4bdc-a795-19e6cc980957",
   "metadata": {},
   "outputs": [],
   "source": [
    "demo_model_ex = dadi.Numerics.make_extrap_func(split_mig1)"
   ]
  },
  {
   "cell_type": "markdown",
   "id": "d489a4e3-384c-498f-b046-2f9a4542dcfa",
   "metadata": {},
   "source": [
    "Optimize parameters"
   ]
  },
  {
   "cell_type": "code",
   "execution_count": 17,
   "id": "489ff0b3-8e5e-4ff2-baa3-a3b828ea6577",
   "metadata": {},
   "outputs": [
    {
     "name": "stdout",
     "output_type": "stream",
     "text": [
      "11700   , -27098.2    , array([ 0.1341     ,  0.0453203  ,  0.0207767  ,  0.0409554  ,  0.0382572  ])\n",
      "11800   , -23721.8    , array([ 2.82216    ,  0.329767   ,  0.222339   ,  0.172621   ,  0.103603   ])\n",
      "11900   , -22582.7    , array([ 0.510472   ,  0.499662   ,  0.19554    ,  0.329452   ,  0.254421   ])\n",
      "12000   , -22517.5    , array([ 0.522341   ,  0.50208    ,  0.200848   ,  0.404078   ,  0.268733   ])\n"
     ]
    },
    {
     "name": "stderr",
     "output_type": "stream",
     "text": [
      "WARNING:Inference:Model is < 0 where data is not masked.\n",
      "WARNING:Inference:Number of affected entries is 1. Sum of data in those entries is 144:\n"
     ]
    },
    {
     "name": "stdout",
     "output_type": "stream",
     "text": [
      "12100   , -26952.7    , array([ 0.102425   ,  0.0334126  ,  0.0160108  ,  0.145934   ,  0.0709344  ])\n",
      "12200   , -22444      , array([ 0.411041   ,  0.352318   ,  0.147447   ,  0.650527   ,  0.383077   ])\n",
      "12300   , -22410.3    , array([ 0.362782   ,  0.36547    ,  0.14395    ,  0.63337    ,  0.444398   ])\n",
      "12400   , -22399.8    , array([ 0.349669   ,  0.345631   ,  0.136802   ,  0.660944   ,  0.485439   ])\n",
      "12500   , -26044.5    , array([ 2.99715    ,  0.0676662  ,  0.0452937  ,  0.0343563  ,  0.548256   ])\n",
      "12600   , -23157      , array([ 1.27974    ,  0.377608   ,  0.256162   ,  0.30238    ,  0.302057   ])\n",
      "12700   , -22571.5    , array([ 0.644063   ,  0.529791   ,  0.224836   ,  0.30324    ,  0.240235   ])\n",
      "12800   , -22521.7    , array([ 0.531323   ,  0.470969   ,  0.196768   ,  0.369995   ,  0.298008   ])\n"
     ]
    },
    {
     "name": "stderr",
     "output_type": "stream",
     "text": [
      "WARNING:Inference:Model is < 0 where data is not masked.\n",
      "WARNING:Inference:Number of affected entries is 49. Sum of data in those entries is 1759:\n",
      "WARNING:Inference:Model is < 0 where data is not masked.\n",
      "WARNING:Inference:Number of affected entries is 12. Sum of data in those entries is 797:\n"
     ]
    },
    {
     "name": "stdout",
     "output_type": "stream",
     "text": [
      "12900   , -27186.5    , array([ 0.228426   ,  0.0414695  ,  0.0214649  ,  0.0134987  ,  0.0174177  ])\n",
      "13000   , -26767.2    , array([ 0.186821   ,  0.0880882  ,  0.0375242  ,  0.0785888  ,  0.0619552  ])\n",
      "13100   , -22647.2    , array([ 0.765385   ,  0.639114   ,  0.270505   ,  0.25991    ,  0.174778   ])\n",
      "13200   , -22589.9    , array([ 0.704899   ,  0.53169    ,  0.237007   ,  0.288276   ,  0.215854   ])\n",
      "13300   , -27243.3    , array([ 0.458071   ,  0.0409344  ,  0.0245261  ,  0.0244131  ,  0.0222895  ])\n",
      "13400   , -26683.2    , array([ 0.355479   ,  0.0988689  ,  0.0479104  ,  0.0777861  ,  0.0508317  ])\n",
      "13500   , -22514.9    , array([ 0.535331   ,  0.470354   ,  0.195677   ,  0.398072   ,  0.270776   ])\n",
      "13600   , -22482.6    , array([ 0.473085   ,  0.454754   ,  0.182221   ,  0.438526   ,  0.342747   ])\n",
      "13700   , -26999.2    , array([ 0.54594    ,  0.065213   ,  0.038251   ,  0.0612945  ,  0.0427809  ])\n",
      "13800   , -22538.5    , array([ 0.630251   ,  0.409868   ,  0.191647   ,  0.374083   ,  0.306975   ])\n",
      "13900   , -22463.4    , array([ 0.433316   ,  0.432153   ,  0.169622   ,  0.515043   ,  0.332978   ])\n",
      "14000   , -22420.2    , array([ 0.380215   ,  0.379246   ,  0.149607   ,  0.602042   ,  0.417698   ])\n",
      "14100   , -27203.1    , array([ 0.743006   ,  0.0186574  ,  0.0110929  ,  0.0208572  ,  0.0284862  ])\n",
      "14200   , -27051.2    , array([ 0.409054   ,  0.0481715  ,  0.0268227  ,  0.051262   ,  0.0397986  ])\n",
      "14300   , -26881.7    , array([ 0.477121   ,  0.0630782  ,  0.0344206  ,  0.086324   ,  0.0398369  ])\n",
      "14400   , -23380.6    , array([ 0.496707   ,  0.232396   ,  0.113911   ,  0.355336   ,  0.245831   ])\n",
      "14500   , -27165.4    , array([ 0.802963   ,  0.0406428  ,  0.0231575  ,  0.0167889  ,  0.0352452  ])\n",
      "14600   , -25599.8    , array([ 0.471966   ,  0.147455   ,  0.0742027  ,  0.0745628  ,  0.273686   ])\n",
      "14700   , -22831.4    , array([ 0.811119   ,  0.366506   ,  0.197552   ,  0.267338   ,  0.372399   ])\n",
      "14800   , -22536.6    , array([ 0.526114   ,  0.500446   ,  0.202023   ,  0.365949   ,  0.321145   ])\n",
      "14900   , -27320.2    , array([ 0.661937   ,  0.0283528  ,  0.0180947  ,  0.0315442  ,  0.0296088  ])\n",
      "15000   , -26968.6    , array([ 0.166413   ,  0.0565251  ,  0.0255523  ,  0.069152   ,  0.0536781  ])\n",
      "15100   , -22571.3    , array([ 0.626543   ,  0.515502   ,  0.222354   ,  0.304614   ,  0.241882   ])\n",
      "15200   , -22522.9    , array([ 0.473715   ,  0.535807   ,  0.196829   ,  0.396836   ,  0.292814   ])\n"
     ]
    },
    {
     "name": "stderr",
     "output_type": "stream",
     "text": [
      "WARNING:Inference:Model is < 0 where data is not masked.\n",
      "WARNING:Inference:Number of affected entries is 11. Sum of data in those entries is 757:\n"
     ]
    },
    {
     "name": "stdout",
     "output_type": "stream",
     "text": [
      "15300   , -27129.2    , array([ 0.63664    ,  0.0439831  ,  0.0250949  ,  0.0184537  ,  0.0428027  ])\n",
      "15400   , -23161.4    , array([ 0.903312   ,  0.302211   ,  0.181802   ,  0.29976    ,  0.530572   ])\n",
      "15500   , -22498      , array([ 0.517367   ,  0.467517   ,  0.191752   ,  0.415797   ,  0.299274   ])\n",
      "15600   , -22484.7    , array([ 0.490416   ,  0.449285   ,  0.183742   ,  0.432334   ,  0.323835   ])\n"
     ]
    },
    {
     "name": "stderr",
     "output_type": "stream",
     "text": [
      "WARNING:Inference:Model is < 0 where data is not masked.\n",
      "WARNING:Inference:Number of affected entries is 74. Sum of data in those entries is 915:\n"
     ]
    },
    {
     "name": "stdout",
     "output_type": "stream",
     "text": [
      "15700   , -27210.6    , array([ 0.371866   ,  0.0171424  ,  0.0101315  ,  0.0317733  ,  0.016089   ])\n",
      "15800   , -27267      , array([ 0.207268   ,  0.0260931  ,  0.0152719  ,  0.0491746  ,  0.0287575  ])\n",
      "15900   , -23982.3    , array([ 1.0734     ,  0.327674   ,  0.168804   ,  0.277312   ,  0.0581558  ])\n",
      "16000   , -22506.3    , array([ 0.530073   ,  0.415751   ,  0.181764   ,  0.426481   ,  0.289524   ])\n",
      "16100   , -27134.9    , array([ 0.427256   ,  0.0416721  ,  0.0237215  ,  0.040943   ,  0.0207808  ])\n",
      "16200   , -26482.4    , array([ 0.253464   ,  0.115153   ,  0.0499183  ,  0.100537   ,  0.0668173  ])\n",
      "16300   , -22505.1    , array([ 0.487558   ,  0.492984   ,  0.190986   ,  0.40416    ,  0.294454   ])\n",
      "16400   , -22458.8    , array([ 0.443348   ,  0.405376   ,  0.165788   ,  0.484709   ,  0.370598   ])\n",
      "16500   , -27085.7    , array([ 0.226441   ,  0.0758088  ,  0.0354133  ,  0.0282689  ,  0.0215985  ])\n",
      "16600   , -23895.6    , array([ 0.794411   ,  0.271095   ,  0.148667   ,  0.210203   ,  0.131351   ])\n",
      "16700   , -22608.8    , array([ 0.697321   ,  0.595153   ,  0.251092   ,  0.268279   ,  0.201293   ])\n",
      "16800   , -22551.2    , array([ 0.547952   ,  0.551412   ,  0.213543   ,  0.344083   ,  0.243136   ])\n",
      "16900   , -27120.6    , array([ 0.380483   ,  0.0386767  ,  0.0214339  ,  0.0211834  ,  0.0553306  ])\n",
      "17000   , -22727.3    , array([ 0.427235   ,  0.322093   ,  0.142449   ,  0.376762   ,  0.466829   ])\n",
      "17100   , -22637      , array([ 0.461651   ,  0.337342   ,  0.150287   ,  0.403913   ,  0.485274   ])\n",
      "17200   , -22476.7    , array([ 0.447903   ,  0.409409   ,  0.168082   ,  0.47054    ,  0.409196   ])\n"
     ]
    },
    {
     "name": "stderr",
     "output_type": "stream",
     "text": [
      "WARNING:Inference:Model is < 0 where data is not masked.\n",
      "WARNING:Inference:Number of affected entries is 6. Sum of data in those entries is 524:\n"
     ]
    },
    {
     "name": "stdout",
     "output_type": "stream",
     "text": [
      "17300   , -27102.8    , array([ 0.0655598  ,  0.058755   ,  0.0187464  ,  0.0362843  ,  0.0492896  ])\n",
      "17400   , -26918.8    , array([ 0.105576   ,  0.074574   ,  0.0271591  ,  0.0597057  ,  0.079403   ])\n",
      "17500   , -22505      , array([ 0.546316   ,  0.443606   ,  0.193976   ,  0.40598    ,  0.312399   ])\n",
      "17600   , -22430.4    , array([ 0.320246   ,  0.410859   ,  0.142649   ,  0.672359   ,  0.451084   ])\n"
     ]
    },
    {
     "name": "stderr",
     "output_type": "stream",
     "text": [
      "WARNING:Inference:Model is < 0 where data is not masked.\n",
      "WARNING:Inference:Number of affected entries is 10. Sum of data in those entries is 684:\n"
     ]
    },
    {
     "name": "stdout",
     "output_type": "stream",
     "text": [
      "17700   , -27145.8    , array([ 0.482214   ,  0.0629066  ,  0.0334992  ,  0.0177149  ,  0.0184576  ])\n",
      "17800   , -26134.1    , array([ 0.650137   ,  0.227453   ,  0.108007   ,  0.0779257  ,  0.0238241  ])\n",
      "17900   , -22814.2    , array([ 1.05272    ,  0.819002   ,  0.370691   ,  0.147234   ,  0.113874   ])\n",
      "18000   , -22579.4    , array([ 0.669757   ,  0.534872   ,  0.232695   ,  0.29336    ,  0.235012   ])\n"
     ]
    },
    {
     "name": "stderr",
     "output_type": "stream",
     "text": [
      "WARNING:Inference:Model is < 0 where data is not masked.\n",
      "WARNING:Inference:Number of affected entries is 1. Sum of data in those entries is 144:\n"
     ]
    },
    {
     "name": "stdout",
     "output_type": "stream",
     "text": [
      "18100   , -27174.8    , array([ 0.0494493  ,  0.0277212  ,  0.0109225  ,  0.0351834  ,  0.0359791  ])\n",
      "18200   , -27103.9    , array([ 0.0795296  ,  0.0357789  ,  0.01509    ,  0.0553763  ,  0.048114   ])\n",
      "18300   , -22817.2    , array([ 0.542201   ,  0.232805   ,  0.12251    ,  0.568147   ,  0.304769   ])\n",
      "18400   , -22394.7    , array([ 0.337175   ,  0.316357   ,  0.127576   ,  0.707113   ,  0.490662   ])\n",
      "18500   , -27200.9    , array([ 0.527433   ,  0.0211867  ,  0.0123977  ,  0.0201983  ,  0.0250634  ])\n",
      "18600   , -27050.7    , array([ 0.268177   ,  0.0683871  ,  0.0337645  ,  0.0210097  ,  0.0504462  ])\n",
      "18700   , -22569      , array([ 0.583103   ,  0.535314   ,  0.217732   ,  0.307555   ,  0.252073   ])\n",
      "18800   , -22533.1    , array([ 0.496193   ,  0.549205   ,  0.203929   ,  0.38358    ,  0.273798   ])\n"
     ]
    },
    {
     "name": "stderr",
     "output_type": "stream",
     "text": [
      "WARNING:Inference:Model is < 0 where data is not masked.\n",
      "WARNING:Inference:Number of affected entries is 1. Sum of data in those entries is 144:\n"
     ]
    },
    {
     "name": "stdout",
     "output_type": "stream",
     "text": [
      "18900   , -27135.9    , array([ 0.121855   ,  0.0425895  ,  0.0192691  ,  0.0166134  ,  0.0556321  ])\n",
      "19000   , -27086.2    , array([ 0.379326   ,  0.0490748  ,  0.0272973  ,  0.0163486  ,  0.0665484  ])\n",
      "19100   , -22931.8    , array([ 1.60942    ,  0.459544   ,  0.278412   ,  0.167853   ,  0.186529   ])\n",
      "19200   , -22623.4    , array([ 0.699744   ,  0.578441   ,  0.250851   ,  0.286978   ,  0.251261   ])\n"
     ]
    },
    {
     "name": "stderr",
     "output_type": "stream",
     "text": [
      "WARNING:Inference:Model is < 0 where data is not masked.\n",
      "WARNING:Inference:Number of affected entries is 74. Sum of data in those entries is 915:\n"
     ]
    },
    {
     "name": "stdout",
     "output_type": "stream",
     "text": [
      "19300   , -27662.6    , array([ 0.281226   ,  0.0185012  ,  0.012326   ,  0.0219372  ,  0.0342558  ])\n",
      "19400   , -26165.4    , array([ 1.63577    ,  0.0842074  ,  0.0541526  ,  0.038107   ,  0.333817   ])\n",
      "19500   , -22904.3    , array([ 1.48747    ,  0.422829   ,  0.264301   ,  0.22967    ,  0.194494   ])\n",
      "19600   , -22544.4    , array([ 0.558494   ,  0.531659   ,  0.213773   ,  0.338923   ,  0.25981    ])\n",
      "19700   , -27056.6    , array([ 0.740468   ,  0.0680682  ,  0.0388061  ,  0.0412449  ,  0.0174221  ])\n",
      "19800   , -22752.2    , array([ 0.693765   ,  0.564956   ,  0.244216   ,  0.305176   ,  0.142861   ])\n",
      "19900   , -22604      , array([ 0.632514   ,  0.623837   ,  0.245143   ,  0.282807   ,  0.203696   ])\n",
      "20000   , -22507.4    , array([ 0.502917   ,  0.476691   ,  0.190187   ,  0.409651   ,  0.280592   ])\n"
     ]
    },
    {
     "name": "stderr",
     "output_type": "stream",
     "text": [
      "WARNING:Inference:Model is < 0 where data is not masked.\n",
      "WARNING:Inference:Number of affected entries is 1. Sum of data in those entries is 144:\n"
     ]
    },
    {
     "name": "stdout",
     "output_type": "stream",
     "text": [
      "20100   , -27210.9    , array([ 0.152603   ,  0.0272491  ,  0.0136525  ,  0.0325529  ,  0.0151949  ])\n",
      "20200   , -27091.9    , array([ 0.187095   ,  0.0390271  ,  0.019805   ,  0.0577647  ,  0.0283901  ])\n",
      "20300   , -23406.6    , array([ 1.18962    ,  0.248134   ,  0.162004   ,  0.556469   ,  0.197236   ])\n",
      "20400   , -22625.9    , array([ 0.389054   ,  0.371007   ,  0.148875   ,  0.710235   ,  0.273629   ])\n"
     ]
    },
    {
     "name": "stderr",
     "output_type": "stream",
     "text": [
      "WARNING:Inference:Model is < 0 where data is not masked.\n",
      "WARNING:Inference:Number of affected entries is 15. Sum of data in those entries is 909:\n"
     ]
    },
    {
     "name": "stdout",
     "output_type": "stream",
     "text": [
      "20500   , -27111.5    , array([ 0.690515   ,  0.0542515  ,  0.030096   ,  0.0316515  ,  0.0306854  ])\n",
      "20600   , -22754      , array([ 0.92519    ,  0.720848   ,  0.325252   ,  0.169723   ,  0.149721   ])\n",
      "20700   , -22664.1    , array([ 0.76455    ,  0.680509   ,  0.283084   ,  0.226179   ,  0.186599   ])\n",
      "20800   , -22553.5    , array([ 0.57171    ,  0.475741   ,  0.206977   ,  0.341471   ,  0.299667   ])\n",
      "20900   , -27314.1    , array([ 0.454266   ,  0.0493398  ,  0.0249565  ,  0.0141348  ,  0.0448722  ])\n",
      "21000   , -24444.2    , array([ 2.43136    ,  0.281092   ,  0.213051   ,  0.101467   ,  0.427924   ])\n",
      "21100   , -22712.1    , array([ 0.940542   ,  0.535819   ,  0.266236   ,  0.202173   ,  0.206276   ])\n",
      "21200   , -22638.3    , array([ 0.680026   ,  0.678791   ,  0.26655    ,  0.251887   ,  0.194618   ])\n"
     ]
    },
    {
     "name": "stderr",
     "output_type": "stream",
     "text": [
      "WARNING:Inference:Model is < 0 where data is not masked.\n",
      "WARNING:Inference:Number of affected entries is 21. Sum of data in those entries is 1045:\n"
     ]
    },
    {
     "name": "stdout",
     "output_type": "stream",
     "text": [
      "21300   , -27165.6    , array([ 0.555064   ,  0.0304518  ,  0.0176993  ,  0.044739   ,  0.0177011  ])\n",
      "21400   , -26986.3    , array([ 0.135462   ,  0.0548212  ,  0.0238973  ,  0.0912132  ,  0.0158467  ])\n",
      "21500   , -23176.8    , array([ 0.418707   ,  0.196022   ,  0.0965763  ,  0.683472   ,  0.246497   ])\n",
      "21600   , -22450.1    , array([ 0.36043    ,  0.348174   ,  0.13906    ,  0.695697   ,  0.376802   ])\n",
      "21700   , -27336.8    , array([ 0.451022   ,  0.0371655  ,  0.0236168  ,  0.0403066  ,  0.0614175  ])\n",
      "21800   , -26003.7    , array([ 0.413859   ,  0.103874   ,  0.0562688  ,  0.142148   ,  0.151636   ])\n",
      "21900   , -22490.2    , array([ 0.448474   ,  0.364506   ,  0.156363   ,  0.468101   ,  0.425099   ])\n",
      "22000   , -22446.4    , array([ 0.416686   ,  0.413779   ,  0.162343   ,  0.518315   ,  0.378793   ])\n",
      "22100   , -28342.4    , array([ 0.694372   ,  0.0463719  ,  0.0345668  ,  0.0354715  ,  0.040566   ])\n",
      "22200   , -22756.4    , array([ 0.708695   ,  0.344584   ,  0.177053   ,  0.287616   ,  0.309262   ])\n",
      "22300   , -22463.7    , array([ 0.398134   ,  0.413888   ,  0.161217   ,  0.511227   ,  0.357267   ])\n",
      "22400   , -22448.5    , array([ 0.420789   ,  0.420056   ,  0.165159   ,  0.51698    ,  0.370858   ])\n"
     ]
    },
    {
     "name": "stderr",
     "output_type": "stream",
     "text": [
      "WARNING:Inference:Model is < 0 where data is not masked.\n",
      "WARNING:Inference:Number of affected entries is 30. Sum of data in those entries is 1315:\n"
     ]
    },
    {
     "name": "stdout",
     "output_type": "stream",
     "text": [
      "22500   , -27235.1    , array([ 0.495226   ,  0.0308691  ,  0.0186105  ,  0.0127482  ,  0.0260234  ])\n",
      "22600   , -27125.6    , array([ 0.699118   ,  0.0395857  ,  0.0229123  ,  0.0254796  ,  0.0455808  ])\n",
      "22700   , -25966.8    , array([ 0.424138   ,  0.15027    ,  0.0712186  ,  0.0769964  ,  0.156434   ])\n",
      "22800   , -22828.1    , array([ 0.536179   ,  0.449029   ,  0.212856   ,  0.320478   ,  0.281037   ])\n",
      "22900   , -27119.2    , array([ 0.423815   ,  0.0370023  ,  0.0219421  ,  0.038507   ,  0.0705251  ])\n",
      "23000   , -23043.4    , array([ 1.73964    ,  0.436565   ,  0.257793   ,  0.16601    ,  0.206232   ])\n",
      "23100   , -22502.7    , array([ 0.410377   ,  0.479129   ,  0.178667   ,  0.463452   ,  0.375905   ])\n",
      "23200   , -22449.9    , array([ 0.404148   ,  0.419097   ,  0.164497   ,  0.531747   ,  0.398284   ])\n"
     ]
    }
   ],
   "source": [
    "try:\n",
    "  fid = open('migmodel_fit_refinedPop_t10.txt','a')\n",
    "except:\n",
    "  fid = open('migmodel_fit_refinedPop_t10.txt','w')\n",
    "for i in range(30):\n",
    "    p0 = dadi.Misc.perturb_params(params, fold=1, upper_bound=upper_bounds,\n",
    "                                  lower_bound=lower_bounds)\n",
    "    popt, ll_model = dadi.Inference.opt(p0, fs, demo_model_ex, pts_l,\n",
    "                                        lower_bound=lower_bounds,\n",
    "                                        upper_bound=upper_bounds,\n",
    "                                        maxeval=400, verbose=100)\n",
    "    # Calculate the synonymous theta\n",
    "    model_fs = demo_model_ex(popt, ns, pts_l)\n",
    "    theta0 = dadi.Inference.optimal_sfs_scaling(model_fs, fs)\n",
    "\n",
    "    # Write results to fid\n",
    "    res = [ll_model] + list(popt) + [theta0]\n",
    "    fid.write('\\t'.join([str(ele) for ele in res])+'\\n')\n",
    "fid.close()"
   ]
  },
  {
   "cell_type": "markdown",
   "id": "ab326bce-f8bb-4f28-896e-a566824aaeea",
   "metadata": {},
   "source": [
    "# plot demographic inference"
   ]
  },
  {
   "cell_type": "code",
   "execution_count": 25,
   "id": "cd202f6e-c78f-4410-bf45-e26d6b9420ae",
   "metadata": {},
   "outputs": [
    {
     "name": "stdout",
     "output_type": "stream",
     "text": [
      "58124.68799813111\n"
     ]
    },
    {
     "data": {
      "image/png": "[encoded data removed]",
      "text/plain": [
       "<Figure size 800x640 with 6 Axes>"
      ]
     },
     "metadata": {
      "needs_background": "light"
     },
     "output_type": "display_data"
    }
   ],
   "source": [
    "#popt from the best model without masking singleton\n",
    "#popt = [0.01150, 0.01, 0.0036, 0.0379, 0.0561]\n",
    "#popt from the best model after masking singleton\n",
    "#popt = [0.0112, 0.01, 0.0036, 0.0317, 0.0246]\n",
    "#popt from the best model after masking 0 allele in eachpop\n",
    "#popt = [0.4549, 0.034, 0.0189, 0.0238, 0.0296]\n",
    "#prot from the best model with updated initial parameters, \n",
    "popt = [0.3222, 0.3221, 0.1267, 0.7407, 0.51814]\n",
    "\n",
    "model_fs = demo_model_ex(popt, ns, pts_l)\n",
    "theta0 = dadi.Inference.optimal_sfs_scaling(model_fs, fs)\n",
    "print(theta0)\n",
    "fig = plt.figure(figsize=(10, 8), dpi=80)\n",
    "fig.clear()\n",
    "dadi.Plotting.plot_2d_comp_multinom(model_fs, fs, vmin=1, pop_ids =('vir','chi'))\n",
    "fig.savefig('migmodel_SFS_plot.png')"
   ]
  },
  {
   "cell_type": "code",
   "execution_count": 20,
   "id": "f8552961-4a30-43e2-a0b4-fdba3a2b54c3",
   "metadata": {},
   "outputs": [],
   "source": [
    "# Load bootstraped frequency spectrum (if they haven't been made, there is an example in the \"Creating a frequency spectrum\" section)\n",
    "import glob\n",
    "boots_fids = glob.glob('bootstraps_syn/virchi.10p.SNP.boot_*.fs')\n",
    "boots_syn = [dadi.Spectrum.from_file(fid) for fid in boots_fids]\n",
    "\n",
    "# Godambe uncertainties\n",
    "# Will contain uncertainties for the\n",
    "# estimated demographic parameters and theta.\n",
    "\n",
    "# Start a file to contain the confidence intervals\n",
    "fi = open('demographic_confidence_intervals.txt','w')\n",
    "fi.write('Optimized parameters: {0}\\n\\n'.format(popt))\n",
    "\n",
    "# we want to try a few different step sizes (eps) to see if\n",
    "# uncertainties very wildly with changes to step size.\n",
    "for eps in [0.01, 0.001, 0.0001]:\n",
    "    uncerts_adj = dadi.Godambe.GIM_uncert(demo_model_ex, pts_l, boots_syn, popt, fs, eps=eps)\n",
    "    fi.write('Estimated 95% uncerts (with step size '+str(eps)+'): {0}\\n'.format(1.96*uncerts_adj[:-1]))\n",
    "    fi.write('Lower bounds of 95% confidence interval : {0}\\n'.format(popt-1.96*uncerts_adj[:-1]))\n",
    "    fi.write('Upper bounds of 95% confidence interval : {0}\\n\\n'.format(popt+1.96*uncerts_adj[:-1]))\n",
    "fi.close()"
   ]
  },
  {
   "cell_type": "markdown",
   "id": "34a97af7-63cc-4b56-baed-f90bb670a99d",
   "metadata": {},
   "source": [
    "# likelihood ratio test"
   ]
  },
  {
   "cell_type": "code",
   "execution_count": 30,
   "id": "a9378a91-8610-4c7e-b5fd-72d5e67a1fd2",
   "metadata": {},
   "outputs": [
    {
     "name": "stdout",
     "output_type": "stream",
     "text": [
      "Likelihood of Full model is -22382.789221812604; reduced model with no migration is -28521.236080099156.\n"
     ]
    }
   ],
   "source": [
    "p0 = [0.3222, 0.3221, 0.1267, 0, 0] \n",
    "model_nomig = demo_model_ex(p0, ns, pts_l)\n",
    "ll_nomig = dadi.Inference.ll_multinom(model_nomig, fs)\n",
    "full_model = demo_model_ex(popt, ns, pts_l)\n",
    "ll_full = dadi.Inference.ll_multinom(full_model, fs)\n",
    "print(f\"Likelihood of Full model is {ll_full}; reduced model with no migration is {ll_nomig}.\" )"
   ]
  },
  {
   "cell_type": "code",
   "execution_count": 36,
   "id": "ffe2fff2-59de-4cf7-af6d-00691c4a7b3f",
   "metadata": {},
   "outputs": [
    {
     "name": "stdout",
     "output_type": "stream",
     "text": [
      "Adjusted D statistic: 12528.7064\n",
      "p-value for rejecting no-migration model: 0.0000000000000000000000000000000000000000000000000000000000000000000000000000000000000000000000000000\n"
     ]
    }
   ],
   "source": [
    "nested_indices = [3, 4]\n",
    "adj = dadi.Godambe.LRT_adjust(demo_model_ex, pts_l, boots_syn, popt, fs, nested_indices, multinom = True)\n",
    "D_adj = adj*2*(ll_full - ll_nomig)\n",
    "print('Adjusted D statistic: {0:.4f}'.format(D_adj))\n",
    "pval = dadi.Godambe.sum_chi2_ppf(D_adj, weights=(0.5,0.5))\n",
    "print('p-value for rejecting no-migration model: {0:.100f}'.format(pval))"
   ]
  }
 ],
 "metadata": {
  "kernelspec": {
   "display_name": "UFRC Python-3.8",
   "language": "python",
   "name": "python3-3.8-ufrc"
  },
  "language_info": {
   "codemirror_mode": {
    "name": "ipython",
    "version": 3
   },
   "file_extension": ".py",
   "mimetype": "text/x-python",
   "name": "python",
   "nbconvert_exporter": "python",
   "pygments_lexer": "ipython3",
   "version": "3.8.5"
  }
 },
 "nbformat": 4,
 "nbformat_minor": 5
}
